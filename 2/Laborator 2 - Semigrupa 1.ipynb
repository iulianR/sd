{
 "cells": [
  {
   "cell_type": "markdown",
   "metadata": {},
   "source": [
    "# <center>Structuri de date</center>\n",
    "## <center>Laborator 2 - Recursivitate (II)<br/><br/>Semigrupa 1</center>\n",
    "### <center>Iulian-Gabriel Radu</center>"
   ]
  },
  {
   "cell_type": "markdown",
   "metadata": {},
   "source": [
    "`1.` Se dă un număr întreg **x**. Să se calculeze cifra de control a numărului dat *x*.\n",
    "<br/>Cifra de control a unui număr se obţine adunând cifrele numărului, apoi cifrele sumei etc, până când se obţine un număr de o singură cifră.\n",
    "\n",
    "```c\n",
    "Antetul funcţiei:\n",
    "int control(int x);\n",
    "\n",
    "Exemplu:\n",
    "input: x = 8994126\n",
    "output: control(x) -> 3\n",
    "\n",
    "8994126 -> 39 -> 12 -> 3\n",
    "```\n",
    "\n",
    "`2.` Se dă un şir de **n** numere. Să se găsească poziţia pe care se găseşte elementul minim în şir folosind tehnica **divide et impera**.\n",
    "\n",
    "```c\n",
    "Antetul funcţiei:\n",
    "int minim(int *A, int low, int high);\n",
    "\n",
    "Exemplu:\n",
    "input: A = {6, 4, 2, 8, 10}\n",
    "output: minim(A, 0, n - 1) -> 2\n",
    "```\n",
    "\n",
    "`3.` Se dă un şir de perechi de elemente. Să se găsească unicul elementul din şir care nu are o pereche. Folosiţi o variantă modificată a algoritmului de căutare binară.\n",
    "\n",
    "```c\n",
    "Antet:\n",
    "int modified_binary_search(int *A, int low, int high);\n",
    "\n",
    "Exemplu:\n",
    "input: A = {4, 4, 5, 5, 3, 3, 2, 1, 1, 6, 6}\n",
    "output: modified_binary_search(A, 0, n - 1) -> 2\n",
    "```\n",
    "\n",
    "`4.` Să se implementeze algoritmul de sortare prin interclasare pornind de la pseudocodul din breviarul teoretic.\n",
    "\n",
    "`5.` Să se realizeze un program care generează toate cuvintele de lungime **n** pentru un set de **k** caractere citit de la tastatură. Se va defini o funcţie recursivă care afişează şi generează pe câte o linie şirurile de caractere cerute.\n",
    "\n",
    "```c\n",
    "Antetul funcţiei:\n",
    "int generate(char *set, char *sir, int n, int k);\n",
    "\n",
    "Exemplu:\n",
    "input: set[] = {'a', 'b'}, n = 3, k = 2\n",
    "output: generate(set, \"\", n, k);\n",
    "aaa    \n",
    "aab  \n",
    "aba\n",
    "abb\n",
    "baa\n",
    "bab\n",
    "bba\n",
    "bbb\n",
    "```"
   ]
  }
 ],
 "metadata": {
  "kernelspec": {
   "display_name": "C",
   "language": "c",
   "name": "c_spec"
  }
 },
 "nbformat": 4,
 "nbformat_minor": 2
}
