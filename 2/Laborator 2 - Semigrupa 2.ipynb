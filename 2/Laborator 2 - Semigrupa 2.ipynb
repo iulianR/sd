{
 "cells": [
  {
   "cell_type": "markdown",
   "metadata": {},
   "source": [
    "# <center>Structuri de date</center>\n",
    "## <center>Laborator 2 - Recursivitate (II)<br/><br/>Semigrupa 2</center>\n",
    "### <center>Iulian-Gabriel Radu</center>"
   ]
  },
  {
   "cell_type": "markdown",
   "metadata": {},
   "source": [
    "`1.` Se dă un număr întreg **x**. Să se calculeze cifra de control a numărului dat *x*.\n",
    "<br/>Cifra de control a unui număr se obţine adunând cifrele numărului, apoi cifrele sumei etc, până când se obţine un număr de o singură cifră.\n",
    "\n",
    "```c\n",
    "Antetul funcţiei:\n",
    "int control(int x);\n",
    "\n",
    "Exemplu:\n",
    "input: x = 8994126\n",
    "output: control(x) -> 3\n",
    "\n",
    "8994126 -> 39 -> 12 -> 3\n",
    "```\n",
    "\n",
    "\n",
    "`2.` Se dă un şir de **n** numere. Să se găsească poziţia pe care se găseşte elementul minim în şir folosind tehnica **divide et impera**.\n",
    "\n",
    "```c\n",
    "Antetul funcţiei:\n",
    "int minim(int *A, int low, int high);\n",
    "\n",
    "Exemplu:\n",
    "input: A = {6, 4, 2, 8, 10}\n",
    "output: minim(A, 0, n - 1) -> 2\n",
    "```\n",
    "\n",
    "`3.` Se dă un şir de **n** numere sortate crescător, rotit la dreapta sau la stânga cu un număr arbitrar de poziţii, şi un element **x**. Să se găsească poziţia pe care se află elementul **x** în şir folosind o variantă modificată a algoritmului de căutare binară.\n",
    "\n",
    "```c\n",
    "Antet:\n",
    "int modified_binary_search(int *A, int low, int high, int x);\n",
    "\n",
    "Exemplu:\n",
    "input: A = {4, 6, 8, 10, 1, 2, 3}, x = 2\n",
    "output: modified_binary_search(A, 0, n - 1, x) -> 5\n",
    "```\n",
    "\n",
    "`4.` Să se implementeze algoritmul de sortare prin interclasare pornind de la pseudocodul dat în breviarul teoretic.\n",
    "\n",
    "\n",
    "`5.` Să se realizeze un program care generează toate cuvintele de lungime **n** formate din caracterele codului Morse (punct, '.' şi linie, '-'). Se va defini o funcţie recursivă care afişează şi generează pe câte o linie şirurile de caractere cerute.\n",
    "\n",
    "```c\n",
    "Antetul funcţiei:\n",
    "int morse(int n);\n",
    "\n",
    "Exemplu:\n",
    "input: n = 2\n",
    "output: morse(n);\n",
    "..\n",
    ".-\n",
    "-.\n",
    "--\n",
    "```"
   ]
  }
 ],
 "metadata": {
  "kernelspec": {
   "display_name": "C",
   "language": "c",
   "name": "c_spec"
  }
 },
 "nbformat": 4,
 "nbformat_minor": 2
}
